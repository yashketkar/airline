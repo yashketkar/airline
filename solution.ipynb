{
 "cells": [
  {
   "cell_type": "code",
   "execution_count": 1,
   "metadata": {},
   "outputs": [],
   "source": [
    "import sys\n",
    "import csv\n",
    "import math"
   ]
  },
  {
   "cell_type": "code",
   "execution_count": 2,
   "metadata": {},
   "outputs": [],
   "source": [
    "# Part A\n",
    "# Question 1\n",
    "# Here we need to find: Total cost = Hours flown * Costs/hour\n",
    "\n",
    "# Creating a dictionary to store \"Characteristics\" for each \"Aircraft Type\"\n",
    "# Key: Aircraft Type\n",
    "# Value: List of integers the form [Range (km), Average Speed (km/h), Number of Seats, Costs per flight hour]\n",
    "characteristics_by_type = None\n",
    "\n",
    "# Populating the characteristics_by_type dictionary with values from ac_characteristics.csv\n",
    "with open('ac_characteristics.csv', 'r') as f:\n",
    "    reader = csv.reader(f)\n",
    "    for row in reader:\n",
    "        if characteristics_by_type is None:\n",
    "            characteristics_by_type = {}\n",
    "        else:\n",
    "            characteristics_by_type[row[0]]=[int(i) for i in row[1:]]"
   ]
  },
  {
   "cell_type": "code",
   "execution_count": 3,
   "metadata": {},
   "outputs": [],
   "source": [
    "# Creating a dictionary to store total \"Hours flown\" for each \"Aircraft Type\"\n",
    "# Key: Aircraft Type\n",
    "# Value: Integer indicating Total (Sum) Hours Flown in 2014\n",
    "hours_by_type = None\n",
    "\n",
    "# Populating the hours_by_type dictionary with values from operations.csv\n",
    "with open('operations.csv', 'r') as f:\n",
    "    reader = csv.reader(f)\n",
    "    for row in reader:\n",
    "        if hours_by_type is None:\n",
    "            hours_by_type = {}\n",
    "        elif row[1] in hours_by_type:\n",
    "            hours_by_type[row[1]]+=sum(int(i) for i in row[2:])\n",
    "        else:\n",
    "            hours_by_type[row[1]]=sum(int(i) for i in row[2:])"
   ]
  },
  {
   "cell_type": "code",
   "execution_count": 4,
   "metadata": {},
   "outputs": [
    {
     "name": "stdout",
     "output_type": "stream",
     "text": [
      "Part A - Question 1\n",
      "The Total Cost (Hours flown x Costs/hour) for each Aircraft Type are as follows:\n",
      "ATR72 : 9536 x 2750 = 26224000 \n",
      "B747 : 11037 x 12000 = 132444000 \n",
      "A320 : 14875 x 5000 = 74375000 \n",
      "B737 : 11816 x 5100 = 60261600 \n",
      "Q400 : 9476 x 3500 = 33166000 \n",
      "A330 : 21834 x 7500 = 163755000 \n"
     ]
    }
   ],
   "source": [
    "# Printing Total Cost for each Aircraft Type\n",
    "# Also populating total_cost_by_type dictionary\n",
    "print \"Part A - Question 1\\nThe Total Cost (Hours flown x Costs/hour) for each Aircraft Type are as follows:\"\n",
    "total_cost_by_type = {}\n",
    "for aircraft_type in characteristics_by_type:\n",
    "    # Total hours flown in 2014 from the dictionary which we populated\n",
    "    hours_flown = hours_by_type[aircraft_type]\n",
    "    # Cost per hour is the last element of the list in characteristics_by_type dictionary's value\n",
    "    cost_per_hour = characteristics_by_type[aircraft_type][3]\n",
    "    # Calculating total cost by type\n",
    "    total_cost_by_type[aircraft_type] = hours_flown*cost_per_hour\n",
    "    print \"{0} : {1} x {2} = {3} \".format(aircraft_type, hours_flown, cost_per_hour, total_cost_by_type[aircraft_type])"
   ]
  },
  {
   "cell_type": "code",
   "execution_count": 5,
   "metadata": {},
   "outputs": [
    {
     "name": "stdout",
     "output_type": "stream",
     "text": [
      "\n",
      "Part A - Question 2\n",
      "The aircraft type with lowest cost per seat per km is: A330 with a cost per seat per km of: 0.0333333333333.\n"
     ]
    }
   ],
   "source": [
    "# Part A\n",
    "# Question 2\n",
    "# Here we need to find: Total cost / (number of seats * number of km flown)\n",
    "# We have already found total cost above\n",
    "# Number of seats by type have already been given\n",
    "# We now have to find number of km flown\n",
    "# i.e. Avg Speed (km/h) x number of hours flown\n",
    "print \"\\nPart A - Question 2\"\n",
    "lowest_cost = sys.maxint\n",
    "lowest_cost_type = None\n",
    "number_of_km_by_type = {}\n",
    "for aircraft_type in characteristics_by_type:\n",
    "    # number of km = avg speed (km/hr) x total number of hours\n",
    "    number_of_km_by_type[aircraft_type] = characteristics_by_type[aircraft_type][1]*hours_by_type[aircraft_type]\n",
    "    # cost per seat per km = cost x (1.0/number of seats) x (1.0/number of km)\n",
    "    cost_per_seat_per_km = total_cost_by_type[aircraft_type]*(1.0/characteristics_by_type[aircraft_type][2])*(1.0/number_of_km_by_type[aircraft_type])\n",
    "    if lowest_cost > cost_per_seat_per_km:\n",
    "        lowest_cost = cost_per_seat_per_km\n",
    "        lowest_cost_type = aircraft_type\n",
    "print \"The aircraft type with lowest cost per seat per km is: {0} with a cost per seat per km of: {1}.\".format(lowest_cost_type, lowest_cost)"
   ]
  },
  {
   "cell_type": "code",
   "execution_count": 6,
   "metadata": {},
   "outputs": [
    {
     "name": "stdout",
     "output_type": "stream",
     "text": [
      "\n",
      "Part B\n",
      "For the city pair: AA, DD the most suitable aircraft type is: A320 with a total cost incurred: 12500.0\n",
      "For the city pair: BB, CC the most suitable aircraft type is: A330 with a total cost incurred: 108333.333333\n",
      "For the city pair: AA, BB the most suitable aircraft type is: A330 with a total cost incurred: 50000.0\n",
      "For the city pair: CC, AA the most suitable aircraft type is: A320 with a total cost incurred: 5000.0\n",
      "\n",
      "The final resultant fleet would consist of: A320,A330\n"
     ]
    }
   ],
   "source": [
    "# Part B\n",
    "# Populating the characteristics_by_type dictionary with values from city_pairs.csv\n",
    "print \"\\nPart B\"\n",
    "city_pairs = None\n",
    "with open('city_pairs.csv', 'r') as f:\n",
    "    reader = csv.reader(f)\n",
    "    for row in reader:\n",
    "        if city_pairs is None:\n",
    "            city_pairs = {}\n",
    "        else:\n",
    "            city_pairs[row[0] + \",\" + row[1]]=[int(row[2]), int(row[3])]\n",
    "fleet = []\n",
    "for city_pair in city_pairs:\n",
    "    # We need to get the aircrafts which have range higher than or equal to the distance between the city pair\n",
    "    range_aircrafts = [aircraft_type for aircraft_type in characteristics_by_type if characteristics_by_type[aircraft_type][0] >= city_pairs[city_pair][1]]\n",
    "    # Thus we have eliminated all aircrafts with a lower range\n",
    "    lowest_cost_for_city_pair = sys.maxint\n",
    "    lowest_cost_type_for_city_pair = None\n",
    "    for aircraft_type in range_aircrafts:\n",
    "        # Number of trips = Passenger Demand / Number of Seats\n",
    "        number_of_trips = math.ceil(1.0*city_pairs[city_pair][0]/characteristics_by_type[aircraft_type][2])\n",
    "        # To get cost per trip, we take the distance between the cities\n",
    "        # and divide it by the average speed to get the time taken for the trip (in hours)\n",
    "        # we then multiply it by cost per hour for the aircraft type,\n",
    "        # This will give us the cost for the trip.\n",
    "        # i.e. Cost = (Distance/Speed) x Cost per hour = (Time) x Cost per hour\n",
    "        cost_for_trip = (1.0*city_pairs[city_pair][1]/characteristics_by_type[aircraft_type][1])*characteristics_by_type[aircraft_type][3]\n",
    "        total_cost_incurred = number_of_trips*cost_for_trip\n",
    "        if total_cost_incurred < lowest_cost_for_city_pair:\n",
    "            lowest_cost_for_city_pair = total_cost_incurred\n",
    "            lowest_cost_type_for_city_pair = aircraft_type\n",
    "    if lowest_cost_type_for_city_pair not in fleet:\n",
    "        fleet.append(lowest_cost_type_for_city_pair)\n",
    "    print \"For the city pair: {0} the most suitable aircraft type is: {1} with a total cost incurred: {2}\".format(city_pair, lowest_cost_type_for_city_pair, lowest_cost_for_city_pair)\n",
    "\n",
    "print \"\\nThe final resultant fleet would consist of: \" + \",\".join(fleet)"
   ]
  }
 ],
 "metadata": {
  "kernelspec": {
   "display_name": "Python 2",
   "language": "python",
   "name": "python2"
  },
  "language_info": {
   "codemirror_mode": {
    "name": "ipython",
    "version": 2
   },
   "file_extension": ".py",
   "mimetype": "text/x-python",
   "name": "python",
   "nbconvert_exporter": "python",
   "pygments_lexer": "ipython2",
   "version": "2.7.14"
  }
 },
 "nbformat": 4,
 "nbformat_minor": 2
}
