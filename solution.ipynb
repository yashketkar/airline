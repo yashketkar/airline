{
 "cells": [
  {
   "cell_type": "code",
   "execution_count": 1,
   "metadata": {},
   "outputs": [],
   "source": [
    "import sys\n",
    "import csv"
   ]
  },
  {
   "cell_type": "code",
   "execution_count": 2,
   "metadata": {},
   "outputs": [],
   "source": [
    "# Part A\n",
    "# Question 1\n",
    "# Here we need to find: Total cost = Hours flown * Costs/hour\n",
    "\n",
    "# Creating a dictionary to store \"Characteristics\" for each \"Aircraft Type\"\n",
    "# Key: Aircraft Type\n",
    "# Value: List of integers the form [Range (km), Average Speed (km/h), Number of Seats, Costs per flight hour]\n",
    "characteristics_by_type = None\n",
    "\n",
    "# Populating the characteristics_by_type dictionary with values from ac_characteristics.csv\n",
    "with open('ac_characteristics.csv', 'r') as f:\n",
    "    reader = csv.reader(f)\n",
    "    for row in reader:\n",
    "        if characteristics_by_type is None:\n",
    "            characteristics_by_type = {}\n",
    "        else:\n",
    "            characteristics_by_type[row[0]]=[int(i) for i in row[1:]]"
   ]
  },
  {
   "cell_type": "code",
   "execution_count": 3,
   "metadata": {},
   "outputs": [],
   "source": [
    "# Creating a dictionary to store total \"Hours flown\" for each \"Aircraft Type\"\n",
    "# Key: Aircraft Type\n",
    "# Value: Integer indicating Total (Sum) Hours Flown in 2014\n",
    "hours_by_type = None\n",
    "\n",
    "# Populating the hours_by_type dictionary with values from operations.csv\n",
    "with open('operations.csv', 'r') as f:\n",
    "    reader = csv.reader(f)\n",
    "    for row in reader:\n",
    "        if hours_by_type is None:\n",
    "            hours_by_type = {}\n",
    "        else:\n",
    "            hours_by_type[row[1]]=sum(int(i) for i in row[2:])"
   ]
  },
  {
   "cell_type": "code",
   "execution_count": 4,
   "metadata": {},
   "outputs": [
    {
     "name": "stdout",
     "output_type": "stream",
     "text": [
      "Part A - Question 1\n",
      "The Total Cost (Hours flown x Costs/hour) for each Aircraft Type are as follows:\n",
      "ATR72 : 2399 x 2750 = 6597250 \n",
      "B747 : 3719 x 12000 = 44628000 \n",
      "A320 : 2999 x 5000 = 14995000 \n",
      "B737 : 2939 x 5100 = 14988900 \n",
      "Q400 : 2399 x 3500 = 8396500 \n",
      "A330 : 3599 x 7500 = 26992500 \n"
     ]
    }
   ],
   "source": [
    "# Printing Total Cost for each Aircraft Type\n",
    "# Also populating total_cost_by_type dictionary\n",
    "print \"Part A - Question 1\\nThe Total Cost (Hours flown x Costs/hour) for each Aircraft Type are as follows:\"\n",
    "total_cost_by_type = {}\n",
    "for aircraft_type in characteristics_by_type:\n",
    "    # Total hours flown in 2014 from the dictionary which we populated\n",
    "    hours_flown = hours_by_type[aircraft_type]\n",
    "    # Cost per hour is the last element of the list in characteristics_by_type dictionary's value\n",
    "    cost_per_hour = characteristics_by_type[aircraft_type][3]\n",
    "    # Calculating total cost by type\n",
    "    total_cost_by_type[aircraft_type] = hours_flown*cost_per_hour\n",
    "    print \"{0} : {1} x {2} = {3} \".format(aircraft_type, hours_flown, cost_per_hour, total_cost_by_type[aircraft_type])"
   ]
  },
  {
   "cell_type": "code",
   "execution_count": 5,
   "metadata": {},
   "outputs": [
    {
     "name": "stdout",
     "output_type": "stream",
     "text": [
      "\n",
      "Part A - Question 2\n",
      "The aircraft type with lowest cost per seat per km is: A330 with a cost per seat per km of: 0.0333333333333.\n"
     ]
    }
   ],
   "source": [
    "# Part A\n",
    "# Question 2\n",
    "# Here we need to find: Total cost / (number of seats * number of km flown)\n",
    "# We have already found total cost above\n",
    "# Number of seats by type have already been given\n",
    "# We now have to find number of km flown\n",
    "# i.e. Avg Speed (km/h) x number of hours flown\n",
    "\n",
    "print \"\\nPart A - Question 2\"\n",
    "lowest_cost = sys.maxint\n",
    "lowest_cost_type = None\n",
    "number_of_km_by_type = {}\n",
    "for aircraft_type in characteristics_by_type:\n",
    "    # number of km = avg speed (km/hr) x total number of hours\n",
    "    number_of_km_by_type[aircraft_type] = characteristics_by_type[aircraft_type][1]*hours_by_type[aircraft_type]\n",
    "    # cost per seat per km = cost x (1.0/number of seats) x (1.0/number of km)\n",
    "    cost_per_seat_per_km = total_cost_by_type[aircraft_type]*(1.0/characteristics_by_type[aircraft_type][2])*(1.0/number_of_km_by_type[aircraft_type])\n",
    "    if lowest_cost > cost_per_seat_per_km:\n",
    "        lowest_cost = cost_per_seat_per_km\n",
    "        lowest_cost_type = aircraft_type\n",
    "print \"The aircraft type with lowest cost per seat per km is: {0} with a cost per seat per km of: {1}.\".format(lowest_cost_type, lowest_cost)"
   ]
  },
  {
   "cell_type": "code",
   "execution_count": null,
   "metadata": {},
   "outputs": [],
   "source": []
  }
 ],
 "metadata": {
  "kernelspec": {
   "display_name": "Python 2",
   "language": "python",
   "name": "python2"
  },
  "language_info": {
   "codemirror_mode": {
    "name": "ipython",
    "version": 2
   },
   "file_extension": ".py",
   "mimetype": "text/x-python",
   "name": "python",
   "nbconvert_exporter": "python",
   "pygments_lexer": "ipython2",
   "version": "2.7.14"
  }
 },
 "nbformat": 4,
 "nbformat_minor": 2
}
